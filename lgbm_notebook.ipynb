{
 "cells": [
  {
   "cell_type": "code",
   "execution_count": 10,
   "metadata": {},
   "outputs": [
    {
     "data": {
      "text/plain": [
       "'LightGBM Implementation'"
      ]
     },
     "execution_count": 10,
     "metadata": {},
     "output_type": "execute_result"
    }
   ],
   "source": [
    "\"\"\"LightGBM Implementation\"\"\""
   ]
  },
  {
   "cell_type": "code",
   "execution_count": 11,
   "metadata": {},
   "outputs": [],
   "source": [
    "import pandas as pd\n",
    "from sklearn.model_selection import train_test_split\n",
    "import lightgbm as lgb\n",
    "from sklearn.metrics import  mean_absolute_percentage_error\n",
    "from sklearn.model_selection import train_test_split\n",
    "from utils.utils import data_subsets"
   ]
  },
  {
   "cell_type": "code",
   "execution_count": 13,
   "metadata": {},
   "outputs": [],
   "source": [
    "def split_data(data, cols_pred, target):\n",
    "\n",
    "    data_train, data_rest = train_test_split(data, test_size=0.2, random_state = 42, stratify = data['model'])\n",
    "    data_valid, data_test = train_test_split(data_rest, test_size=0.5, random_state = 12)\n",
    "\n",
    "    data.loc[data_train.index, 'sample'] = 'train'\n",
    "    data.loc[data_valid.index, 'sample'] = 'valid'\n",
    "    data.loc[data_test.index, 'sample'] = 'test'\n",
    "\n",
    "    train_mask = (data['sample'] == 'train')\n",
    "    valid_mask = (data['sample'] == 'valid') \n",
    "    test_mask = (data['sample'] == 'test')\n",
    "\n",
    "    train_weights = (data[train_mask]['depcount']*data[train_mask][target])\n",
    "    train_weights = train_weights/train_weights.sum()\n",
    "\n",
    "    valid_weights = (data[valid_mask]['depcount']*data[valid_mask][target])\n",
    "    valid_weights = valid_weights/valid_weights.sum()\n",
    "\n",
    "    test_weights = (data[test_mask]['depcount']*data[test_mask][target])\n",
    "    test_weights = test_weights/test_weights.sum()\n",
    "\n",
    "    sets = data_subsets(data_rest)\n",
    "\n",
    "    train_ds = lgb.Dataset(data[train_mask][cols_pred], data[train_mask][target], weight = train_weights, free_raw_data=False) \n",
    "    valid_ds = lgb.Dataset(data[valid_mask][cols_pred], data[valid_mask][target], weight = valid_weights, free_raw_data=False) \n",
    "    test_ds = lgb.Dataset(data[test_mask][cols_pred], data[test_mask][target], weight = test_weights, free_raw_data=False) \n",
    "    print(cols_pred)\n",
    "\n",
    "    return sets, train_ds, train_weights, valid_ds, valid_weights, test_ds, test_weights, data_test\n",
    "\n",
    "def convert_to_categorical(df, columns):\n",
    "    \"\"\"\n",
    "    Convert specified columns in a DataFrame to categorical type.\n",
    "\n",
    "    Parameters:\n",
    "    - df: pandas DataFrame\n",
    "    - columns: list of column names to convert\n",
    "\n",
    "    Returns:\n",
    "    - DataFrame with specified columns converted to categorical type\n",
    "    \"\"\"\n",
    "    for column in columns:\n",
    "        print(column)\n",
    "        df[column] = df[column].astype('category')\n",
    "    return df\n"
   ]
  },
  {
   "cell_type": "code",
   "execution_count": 14,
   "metadata": {},
   "outputs": [],
   "source": [
    "data = pd.read_csv(\"data/preprocessed_data.csv\")\n",
    "#Add inv_dist feature\n",
    "data['inv_dist']  = 1/data['dist']"
   ]
  },
  {
   "cell_type": "code",
   "execution_count": 15,
   "metadata": {},
   "outputs": [
    {
     "name": "stdout",
     "output_type": "stream",
     "text": [
      "Numerical predictors:\n",
      "---------------------\n",
      "seats       float64\n",
      "dist        float64\n",
      "inv_dist    float64\n",
      "dtype: object\n",
      "\n",
      "Categorical predictors:\n",
      "-----------------------\n",
      "model    object\n",
      "dtype: object\n"
     ]
    }
   ],
   "source": [
    "# define list of predictors\n",
    "cols_pred = ['seats', 'dist', 'inv_dist', 'model']\n",
    "target = 'fuel_burn_total'\n",
    "\n",
    "# define list of numerical predictors\n",
    "cols_pred_num = [col for col in cols_pred if data[col].dtype != 'O']\n",
    "# define list of categorical predictors\n",
    "cols_pred_cat = [col for col in cols_pred if data[col].dtype == 'O']\n",
    "\n",
    "\n",
    "print('Numerical predictors:')\n",
    "print('---------------------')\n",
    "print(data[cols_pred_num].dtypes)\n",
    "print()\n",
    "print('Categorical predictors:')\n",
    "print('-----------------------')\n",
    "print(data[cols_pred_cat].dtypes)"
   ]
  },
  {
   "cell_type": "code",
   "execution_count": 16,
   "metadata": {},
   "outputs": [
    {
     "name": "stdout",
     "output_type": "stream",
     "text": [
      "model\n",
      "['seats', 'dist', 'inv_dist', 'model']\n"
     ]
    }
   ],
   "source": [
    "data = convert_to_categorical(data, cols_pred_cat)\n",
    "sets, train_ds, train_weights, valid_ds, valid_weights, test_ds, test_weights, test = split_data(data, cols_pred, target)"
   ]
  },
  {
   "cell_type": "code",
   "execution_count": 21,
   "metadata": {},
   "outputs": [
    {
     "ename": "TypeError",
     "evalue": "train() got an unexpected keyword argument 'evals_result'",
     "output_type": "error",
     "traceback": [
      "\u001b[1;31m---------------------------------------------------------------------------\u001b[0m",
      "\u001b[1;31mTypeError\u001b[0m                                 Traceback (most recent call last)",
      "Cell \u001b[1;32mIn[21], line 14\u001b[0m\n\u001b[0;32m     11\u001b[0m \u001b[38;5;66;03m# Create a dictionary to store evaluation results\u001b[39;00m\n\u001b[0;32m     12\u001b[0m evals_result \u001b[38;5;241m=\u001b[39m {}\n\u001b[1;32m---> 14\u001b[0m model \u001b[38;5;241m=\u001b[39m \u001b[43mlgb\u001b[49m\u001b[38;5;241;43m.\u001b[39;49m\u001b[43mtrain\u001b[49m\u001b[43m(\u001b[49m\u001b[43mparams\u001b[49m\u001b[43m \u001b[49m\u001b[38;5;241;43m=\u001b[39;49m\u001b[43m \u001b[49m\u001b[43mhyperparams\u001b[49m\u001b[43m,\u001b[49m\n\u001b[0;32m     15\u001b[0m \u001b[43m                  \u001b[49m\u001b[43mtrain_set\u001b[49m\u001b[38;5;241;43m=\u001b[39;49m\u001b[43m \u001b[49m\u001b[43mtrain_ds\u001b[49m\u001b[43m,\u001b[49m\n\u001b[0;32m     16\u001b[0m \u001b[43m                  \u001b[49m\u001b[43mvalid_sets\u001b[49m\u001b[38;5;241;43m=\u001b[39;49m\u001b[43m[\u001b[49m\u001b[43mvalid_ds\u001b[49m\u001b[43m,\u001b[49m\u001b[43m \u001b[49m\u001b[43mtest_ds\u001b[49m\u001b[43m,\u001b[49m\u001b[43m \u001b[49m\u001b[43mtrain_ds\u001b[49m\u001b[43m]\u001b[49m\u001b[43m,\u001b[49m\n\u001b[0;32m     17\u001b[0m \u001b[43m                  \u001b[49m\u001b[43mvalid_names\u001b[49m\u001b[38;5;241;43m=\u001b[39;49m\u001b[43m[\u001b[49m\u001b[38;5;124;43m\"\u001b[39;49m\u001b[38;5;124;43mval\u001b[39;49m\u001b[38;5;124;43m\"\u001b[39;49m\u001b[43m,\u001b[49m\u001b[43m \u001b[49m\u001b[38;5;124;43m\"\u001b[39;49m\u001b[38;5;124;43mtest\u001b[39;49m\u001b[38;5;124;43m\"\u001b[39;49m\u001b[43m,\u001b[49m\u001b[43m \u001b[49m\u001b[38;5;124;43m\"\u001b[39;49m\u001b[38;5;124;43mtrain\u001b[39;49m\u001b[38;5;124;43m\"\u001b[39;49m\u001b[43m]\u001b[49m\u001b[43m,\u001b[49m\n\u001b[0;32m     18\u001b[0m \u001b[43m                  \u001b[49m\u001b[43mevals_result\u001b[49m\u001b[38;5;241;43m=\u001b[39;49m\u001b[43mevals_result\u001b[49m\u001b[43m,\u001b[49m\n\u001b[0;32m     19\u001b[0m \u001b[43m                  \u001b[49m\u001b[43mnum_boost_round\u001b[49m\u001b[43m \u001b[49m\u001b[38;5;241;43m=\u001b[39;49m\u001b[43m \u001b[49m\u001b[38;5;241;43m2000\u001b[39;49m\u001b[43m,\u001b[49m\n\u001b[0;32m     20\u001b[0m \u001b[43m                  \u001b[49m\u001b[43mcallbacks\u001b[49m\u001b[38;5;241;43m=\u001b[39;49m\u001b[43m[\u001b[49m\u001b[43mlgb\u001b[49m\u001b[38;5;241;43m.\u001b[39;49m\u001b[43mearly_stopping\u001b[49m\u001b[43m(\u001b[49m\u001b[38;5;241;43m15\u001b[39;49m\u001b[43m)\u001b[49m\u001b[43m]\u001b[49m\n\u001b[0;32m     21\u001b[0m \u001b[43m            \u001b[49m\u001b[43m)\u001b[49m\n",
      "\u001b[1;31mTypeError\u001b[0m: train() got an unexpected keyword argument 'evals_result'"
     ]
    }
   ],
   "source": [
    "hyperparams = {\n",
    "    'task': 'train',\n",
    "    'objective': 'regression',\n",
    "    'categorical_feature': ['model', 'CAT'],\n",
    "    'metric': 'mape',\n",
    "    'max_depth': 8,\n",
    "    'learning_rate':0.15,\n",
    "}\n",
    "\n",
    "# Create a dictionary to store evaluation results\n",
    "evals_result = {}\n",
    "\n",
    "model = lgb.train(params = hyperparams,\n",
    "                  train_set= train_ds,\n",
    "                  valid_sets=[valid_ds, test_ds, train_ds],\n",
    "                  valid_names=[\"val\", \"test\", \"train\"],\n",
    "                  evals_result=evals_result,\n",
    "                  num_boost_round = 2000,\n",
    "                  callbacks=[lgb.early_stopping(15)]\n",
    "            )"
   ]
  },
  {
   "cell_type": "code",
   "execution_count": 18,
   "metadata": {},
   "outputs": [
    {
     "ename": "ValueError",
     "evalue": "eval results cannot be empty.",
     "output_type": "error",
     "traceback": [
      "\u001b[1;31m---------------------------------------------------------------------------\u001b[0m",
      "\u001b[1;31mValueError\u001b[0m                                Traceback (most recent call last)",
      "Cell \u001b[1;32mIn[18], line 1\u001b[0m\n\u001b[1;32m----> 1\u001b[0m \u001b[43mlgb\u001b[49m\u001b[38;5;241;43m.\u001b[39;49m\u001b[43mplot_metric\u001b[49m\u001b[43m(\u001b[49m\u001b[43mevals_result\u001b[49m\u001b[43m)\u001b[49m\n",
      "File \u001b[1;32m~\\AppData\\Local\\Packages\\PythonSoftwareFoundation.Python.3.9_qbz5n2kfra8p0\\LocalCache\\local-packages\\Python39\\site-packages\\lightgbm\\plotting.py:362\u001b[0m, in \u001b[0;36mplot_metric\u001b[1;34m(booster, metric, dataset_names, ax, xlim, ylim, title, xlabel, ylabel, figsize, dpi, grid)\u001b[0m\n\u001b[0;32m    359\u001b[0m num_data \u001b[38;5;241m=\u001b[39m \u001b[38;5;28mlen\u001b[39m(eval_results)\n\u001b[0;32m    361\u001b[0m \u001b[38;5;28;01mif\u001b[39;00m \u001b[38;5;129;01mnot\u001b[39;00m num_data:\n\u001b[1;32m--> 362\u001b[0m     \u001b[38;5;28;01mraise\u001b[39;00m \u001b[38;5;167;01mValueError\u001b[39;00m(\u001b[38;5;124m'\u001b[39m\u001b[38;5;124meval results cannot be empty.\u001b[39m\u001b[38;5;124m'\u001b[39m)\n\u001b[0;32m    364\u001b[0m \u001b[38;5;28;01mif\u001b[39;00m ax \u001b[38;5;129;01mis\u001b[39;00m \u001b[38;5;28;01mNone\u001b[39;00m:\n\u001b[0;32m    365\u001b[0m     \u001b[38;5;28;01mif\u001b[39;00m figsize \u001b[38;5;129;01mis\u001b[39;00m \u001b[38;5;129;01mnot\u001b[39;00m \u001b[38;5;28;01mNone\u001b[39;00m:\n",
      "\u001b[1;31mValueError\u001b[0m: eval results cannot be empty."
     ]
    }
   ],
   "source": [
    "lgb.plot_metric(evals_result)"
   ]
  },
  {
   "cell_type": "code",
   "execution_count": 20,
   "metadata": {},
   "outputs": [
    {
     "name": "stdout",
     "output_type": "stream",
     "text": [
      "Short Haul\n",
      "Test Error, MAPE: 3.873958674862306%\n",
      "Medium Haul\n",
      "Test Error, MAPE: 2.6280976405949485%\n",
      "Medium Long Haul\n",
      "Test Error, MAPE: 1.5323588146103104%\n",
      "Long Haul\n",
      "Test Error, MAPE: 6.790027747974289%\n"
     ]
    }
   ],
   "source": [
    "# Error by Haul Type\n",
    "\n",
    "for name, set_data in zip(['Short', 'Medium', 'Medium Long', 'Long'], sets):\n",
    "    set_weights = (set_data[\"depcount\"] * set_data[\"fuel_burn_total\"])\n",
    "    set_weights = set_weights / set_weights.sum()\n",
    "    test_pred = model.predict(set_data[cols_pred])\n",
    "    print(f\"{name} Haul\")\n",
    "    print(f\"Test Error, MAPE: {mean_absolute_percentage_error(set_data['fuel_burn_total'], test_pred, sample_weight= set_weights)*100}%\")\n",
    "    "
   ]
  },
  {
   "cell_type": "code",
   "execution_count": 11,
   "metadata": {},
   "outputs": [
    {
     "data": {
      "image/png": "[encoded data removed]",
      "text/plain": [
       "<Figure size 700x600 with 1 Axes>"
      ]
     },
     "metadata": {},
     "output_type": "display_data"
    }
   ],
   "source": [
    "# lgb.plot_importance(model, importance_type=\"gain\", figsize=(7,6), title=\"LightGBM Feature Importance (Gain)\")\n",
    "# plt.show()"
   ]
  }
 ],
 "metadata": {
  "kernelspec": {
   "display_name": "Python 3",
   "language": "python",
   "name": "python3"
  },
  "language_info": {
   "codemirror_mode": {
    "name": "ipython",
    "version": 3
   },
   "file_extension": ".py",
   "mimetype": "text/x-python",
   "name": "python",
   "nbconvert_exporter": "python",
   "pygments_lexer": "ipython3",
   "version": "3.9.13"
  }
 },
 "nbformat": 4,
 "nbformat_minor": 2
}
