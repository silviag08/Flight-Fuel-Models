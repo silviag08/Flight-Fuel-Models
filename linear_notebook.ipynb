{
 "cells": [
  {
   "cell_type": "code",
   "execution_count": 4,
   "metadata": {},
   "outputs": [
    {
     "data": {
      "text/plain": [
       "'Run Linear Regression model'"
      ]
     },
     "execution_count": 4,
     "metadata": {},
     "output_type": "execute_result"
    }
   ],
   "source": [
    "\"\"\"Run Linear Regression model\"\"\""
   ]
  },
  {
   "cell_type": "code",
   "execution_count": 5,
   "metadata": {},
   "outputs": [],
   "source": [
    "from fun.polynomial import run_polynomial_model, run_polynomial_model_by_subset"
   ]
  },
  {
   "cell_type": "code",
   "execution_count": 6,
   "metadata": {},
   "outputs": [],
   "source": [
    "path = r'C:\\Users\\Sílvia\\Desktop\\Mates\\Master\\tfm\\data\\final_data.csv'"
   ]
  },
  {
   "cell_type": "markdown",
   "metadata": {},
   "source": [
    "##### Linear Regression Results"
   ]
  },
  {
   "cell_type": "code",
   "execution_count": 7,
   "metadata": {},
   "outputs": [
    {
     "name": "stdout",
     "output_type": "stream",
     "text": [
      "Train Error, MAPE: 17.75398906408839%\n",
      "Test Error, MAPE: 16.860269432153814%\n",
      "\n",
      "Short Set:\n",
      "Test Error, MAPE: 19.720773215282307%\n",
      "\n",
      "Medium Set:\n",
      "Test Error, MAPE: 8.64435611683998%\n",
      "\n",
      "Medium Long Set:\n",
      "Test Error, MAPE: 19.431950557330115%\n",
      "\n",
      "Long Set:\n",
      "Test Error, MAPE: 40.465651393808606%\n"
     ]
    }
   ],
   "source": [
    "# use data_type = \"CAT\" or \"model\" to include a categorical feature\n",
    "run_polynomial_model(path)"
   ]
  },
  {
   "cell_type": "code",
   "execution_count": 8,
   "metadata": {},
   "outputs": [
    {
     "name": "stdout",
     "output_type": "stream",
     "text": [
      "\n",
      "Model training only with Short Set:\n",
      "Train Error, MAPE: 20.804726571440224%\n",
      "Test Error, MAPE: 20.636017368776745%\n",
      "\n",
      "Model training only with Medium Set:\n",
      "Train Error, MAPE: 9.7898815735359%\n",
      "Test Error, MAPE: 8.817749096948933%\n",
      "\n",
      "Model training only with Medium Long Set:\n",
      "Train Error, MAPE: 11.116693940810993%\n",
      "Test Error, MAPE: 11.467781859322447%\n",
      "\n",
      "Model training only with Long Set:\n",
      "Train Error, MAPE: 31.59474612603286%\n",
      "Test Error, MAPE: 27.657892383787587%\n"
     ]
    }
   ],
   "source": [
    "run_polynomial_model_by_subset(path)"
   ]
  },
  {
   "cell_type": "code",
   "execution_count": null,
   "metadata": {},
   "outputs": [],
   "source": []
  }
 ],
 "metadata": {
  "kernelspec": {
   "display_name": "Python 3",
   "language": "python",
   "name": "python3"
  },
  "language_info": {
   "codemirror_mode": {
    "name": "ipython",
    "version": 3
   },
   "file_extension": ".py",
   "mimetype": "text/x-python",
   "name": "python",
   "nbconvert_exporter": "python",
   "pygments_lexer": "ipython3",
   "version": "3.9.13"
  }
 },
 "nbformat": 4,
 "nbformat_minor": 2
}
